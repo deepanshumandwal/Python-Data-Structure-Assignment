{
  "nbformat": 4,
  "nbformat_minor": 0,
  "metadata": {
    "colab": {
      "provenance": []
    },
    "kernelspec": {
      "name": "python3",
      "display_name": "Python 3"
    },
    "language_info": {
      "name": "python"
    }
  },
  "cells": [
    {
      "cell_type": "markdown",
      "source": [
        "# **THEORY QUESTIONS**\n",
        "\n",
        "---\n",
        "\n",
        "\n",
        "\n"
      ],
      "metadata": {
        "id": "lWwCbqtKvgNr"
      }
    },
    {
      "cell_type": "markdown",
      "source": [
        "**1. What are data structures, and why are they important?**\n",
        "  - Data structures are organized ways to store and manage data efficiently. They are crucial because they optimize data access, manipulation, and storage, leading to faster and more efficient algorithms and programs."
      ],
      "metadata": {
        "id": "1a8BjcTEvulF"
      }
    },
    {
      "cell_type": "markdown",
      "source": [
        "**2. Explain the difference between mutable and immutable data types with examples?**\n",
        "  - Mutable data types can be changed after they are created. Examples include lists and dictionaries in Python. If you modify a mutable object, its memory address remains the same.\n",
        "  - Immutable data types cannot be changed after creation. Strings, integers, and tuples are examples. Any \"modification\" to an immutable object actually creates a new object in memory."
      ],
      "metadata": {
        "id": "8iuJ6P6Xvunf"
      }
    },
    {
      "cell_type": "markdown",
      "source": [
        "**3. What are the main differences between lists and tuples in Python ?**\n",
        "  - The primary difference is mutability: lists are mutable, meaning their elements can be changed, added, or removed after creation, enclosed in []. Tuples are immutable, so their contents cannot be altered once defined, enclosed in (). This makes lists suitable for dynamic collections, while tuples are ideal for fixed data or as dictionary keys due to their immutability."
      ],
      "metadata": {
        "id": "sdOgcRVLvupx"
      }
    },
    {
      "cell_type": "markdown",
      "source": [
        "**4. Describe how dictionaries store data ?**\n",
        "  - Dictionaries in Python store data as unordered collections of key-value pairs. Each unique, immutable key (like a string, number, or tuple) maps to a specific value, which can be of any data type. They are implemented using hash tables, allowing for very fast retrieval of values by their associated keys."
      ],
      "metadata": {
        "id": "xzW61FyZvutP"
      }
    },
    {
      "cell_type": "markdown",
      "source": [
        "**5. Why might you use a set instead of a list in Python ?**\n",
        "  - if we need unique elements: Sets automatically eliminate duplicates, ensuring every item is distinct.\n",
        "  - Order doesn't matter: Sets are unordered, so if element sequence isn't important, they're a good choice.\n",
        "  - You need set operations: Sets offer efficient mathematical operations like union, intersection, and difference."
      ],
      "metadata": {
        "id": "lzqHrmIvvu4q"
      }
    },
    {
      "cell_type": "markdown",
      "source": [
        "**6. What is a string in Python, and how is it different from a list ?**\n",
        "  - A string in Python is an immutable sequence of characters, used to represent text. Each character in a string has an assigned index, starting from 0.\n",
        "\n",
        "  The key differences between a string and a list are:\n",
        "\n",
        ">> ***Mutability:*** Strings are immutable; once created, their characters cannot be changed. Lists are mutable; their elements can be modified, added, or removed.\n",
        "\n",
        ">>***Homogeneity:*** Strings are primarily homogeneous (contain only characters), though they can represent numbers as text. Lists can be heterogeneous, storing items of different data types (numbers, other lists, objects, etc.).\n",
        "\n",
        ">>***Purpose:*** Strings are specifically for textual data manipulation. Lists are for ordered collections of any type of data."
      ],
      "metadata": {
        "id": "tzPy_Vvavu71"
      }
    },
    {
      "cell_type": "markdown",
      "source": [
        "**7. How do tuples ensure data integrity in Python ?**\n",
        "  - Tuples ensure data integrity because they are immutable. This means once a tuple is created, its elements cannot be changed, added, or removed. This characteristic guarantees that the data within a tuple remains constant throughout its lifecycle, preventing accidental modifications and ensuring reliability, especially when passing data between different parts of a program or using them as dictionary keys."
      ],
      "metadata": {
        "id": "qBAbtViavu95"
      }
    },
    {
      "cell_type": "markdown",
      "source": [
        "**8. What is a hash table, and how does it relate to dictionaries in Python ?**\n",
        "  - A hash table is a data structure that stores key-value pairs using a hash function to compute an index for storing and retrieving elements very quickly.\n",
        "\n",
        "  - Python dictionaries are implemented using hash tables. When you create a dictionary, Python uses a hash function to convert each key into an index in an underlying array. This allows for highly efficient average-case O(1) time complexity for operations like adding, deleting, and looking up items."
      ],
      "metadata": {
        "id": "2afM2mMOvvBI"
      }
    },
    {
      "cell_type": "markdown",
      "source": [
        "**9. Can lists contain different data types in Python ?**\n",
        "  - Yes, absolutely! Lists in Python are incredibly flexible and can contain elements of different data types within the same list. For example, a single list can hold integers, strings, floats, booleans, and even other lists or dictionaries"
      ],
      "metadata": {
        "id": "1zSSzBQwzPTJ"
      }
    },
    {
      "cell_type": "markdown",
      "source": [
        "**10. Explain why strings are immutable in Python.**\n",
        "  - Immutable strings ensure reliability and efficiency in Python. Since their content can't change after creation, they are safely used as dictionary keys (their hash remains constant) and are inherently thread-safe. Apparent modifications create new strings, preventing accidental data corruption and enabling performance optimizations like string interning. This design choice enhances code predictability and simplifies debugging."
      ],
      "metadata": {
        "id": "I1zVMwXBzQk8"
      }
    },
    {
      "cell_type": "markdown",
      "source": [
        "**11. What advantages do dictionaries offer over lists for certain tasks ?**\n",
        "  - Dictionaries excel over lists when you need to store and retrieve data based on unique keys rather than position."
      ],
      "metadata": {
        "id": "Ypwv_N13zRU1"
      }
    },
    {
      "cell_type": "markdown",
      "source": [
        "**12. Describe a scenario where using a tuple would be preferable over a list.**\n",
        "   - for example I am organizing a family's birth dates (day, month, year). A tuple is perfect because these dates won't change. It ensures no one accidentally alters a birthday. For example, (25, 'December', 1980). Lists, being mutable, are less suitable for such fixed, unchanging data."
      ],
      "metadata": {
        "id": "Avlu9WpNzPP5"
      }
    },
    {
      "cell_type": "markdown",
      "source": [
        "**13. How do sets handle duplicate values in Python ?**\n",
        "  - Sets in Python automatically handle duplicate values by discarding them. When you add an element that already exists in a set, the set simply ignores the new addition, ensuring that every element within the set is unique. This makes sets ideal for efficiently maintaining collections of distinct items, without any explicit action needed to remove redundancies."
      ],
      "metadata": {
        "id": "Xz7tddgXzO6t"
      }
    },
    {
      "cell_type": "markdown",
      "source": [
        "**14**. How does the “in” keyword work differently for lists and dictionaries ?\n",
        "  - For lists, \"in\" iterates through each element to find a match. This is a value-based search.\n",
        "  - For dictionaries, \"in\" efficiently checks if the given item exists among the dictionary's keys using hashing. It does not iterate through values.\n",
        "  \n",
        "  So, it's a key-based lookup, not a value-based one."
      ],
      "metadata": {
        "id": "wJSYj3BTzO3T"
      }
    },
    {
      "cell_type": "markdown",
      "source": [
        "**15. Can you modify the elements of a tuple? Explain why or why not ?**\n",
        "  - No, we cannot modify the elements of a tuple after it's created. Tuples are immutable data types in Python. This means their internal structure and contents are fixed. Any operation that seems to \"change\" a tuple, like concatenation, actually results in creating a completely new tuple object in memory, leaving the original unchanged."
      ],
      "metadata": {
        "id": "dBt3fPP8zO1B"
      }
    },
    {
      "cell_type": "markdown",
      "source": [
        "**16. What is a nested dictionary, and give an example of its use case ?**\n",
        "  - A nested dictionary is a dictionary where values are themselves other dictionaries. This allows for hierarchical data storage.\n",
        "\n",
        "  It is used when Storing information about multiple users, where each user has details like name, age, and contact."
      ],
      "metadata": {
        "id": "nvy2j62t388Q"
      }
    },
    {
      "cell_type": "markdown",
      "source": [
        "**17. Describe the time complexity of accessing elements in a dictionary.**\n",
        "- Unable to answer this question."
      ],
      "metadata": {
        "id": "yZJiZbjs38wV"
      }
    },
    {
      "cell_type": "markdown",
      "source": [
        "**18. In what situations are lists preferred over dictionaries ?**\n",
        "  - Lists are preferred over dictionaries when:\n",
        "\n",
        ">>***Order matters:*** Lists maintain the insertion order of elements.\n",
        "\n",
        ">>***Elements are accessed by index:*** When you need sequential access or access by numerical position.\n",
        "\n",
        ">>***Duplicate values are allowed and meaningful:*** Dictionaries require unique keys.\n",
        "\n",
        ">>***When we don't need key-value pairs:*** For simple collections where association isn't required.\n",
        "\n",
        ">>***Performance for iteration is key:*** Iterating through a list can be slightly faster than a dictionary's keys."
      ],
      "metadata": {
        "id": "CddQ5ADW38iQ"
      }
    },
    {
      "cell_type": "markdown",
      "source": [
        "**19. Why are dictionaries considered unordered, and how does that affect data retrieval ?**\n",
        "  - Although dictionaries maintain insertion order now, making them effectively ordered for practical purposes. However, they are still fundamentally accessed by key, not by positional index, which is their primary retrieval mechanism."
      ],
      "metadata": {
        "id": "vjCdW6vI38W0"
      }
    },
    {
      "cell_type": "markdown",
      "source": [
        "**20. Explain the difference between a list and a dictionary in terms of data retrieval.**\n",
        "  - For lists, data retrieval is primarily positional, meaning you access elements using their numerical index (e.g., my_list[0]) or by slicing. The order matters for retrieval.\n",
        "\n",
        "  - For dictionaries, data retrieval is associative, meaning you access values using their unique, immutable keys (e.g., my_dict['key']). Retrieval is direct and doesn't rely on position."
      ],
      "metadata": {
        "id": "YgD22s-538KD"
      }
    },
    {
      "cell_type": "markdown",
      "source": [
        "\n",
        "\n",
        "---\n",
        "\n"
      ],
      "metadata": {
        "id": "pm8qGcMX7XJ-"
      }
    },
    {
      "cell_type": "markdown",
      "source": [
        "# **PRACTICAL QUESTIONS**\n",
        "\n",
        "---\n",
        "\n"
      ],
      "metadata": {
        "id": "Y6lWFp-47W5z"
      }
    },
    {
      "cell_type": "markdown",
      "source": [
        "**1. Write a code to create a string with your name and print it.**"
      ],
      "metadata": {
        "id": "hxCZLfJo74In"
      }
    },
    {
      "cell_type": "code",
      "source": [
        "my_name = \"Deepanshu Mandwal\"\n",
        "print(my_name)"
      ],
      "metadata": {
        "colab": {
          "base_uri": "https://localhost:8080/"
        },
        "id": "-Yv9YvAa731m",
        "outputId": "d47a0d1b-e6c9-460f-bc8b-c3c5d90eb266"
      },
      "execution_count": 1,
      "outputs": [
        {
          "output_type": "stream",
          "name": "stdout",
          "text": [
            "Deepanshu Mandwal\n"
          ]
        }
      ]
    },
    {
      "cell_type": "markdown",
      "source": [
        "**2. Write a code to find the length of the string \"Hello World\"**"
      ],
      "metadata": {
        "id": "lgAKhNCZ73k_"
      }
    },
    {
      "cell_type": "code",
      "source": [
        "my_string = \"Hello World\"\n",
        "string_length = len(my_string)\n",
        "print(string_length)"
      ],
      "metadata": {
        "colab": {
          "base_uri": "https://localhost:8080/"
        },
        "id": "7VP4Wxid73R6",
        "outputId": "b798569d-9d66-41fe-b1f1-37ddb09c6831"
      },
      "execution_count": 2,
      "outputs": [
        {
          "output_type": "stream",
          "name": "stdout",
          "text": [
            "11\n"
          ]
        }
      ]
    },
    {
      "cell_type": "markdown",
      "source": [
        "**3. Write a code to slice the first 3 characters from the string \"Python Programming\"**"
      ],
      "metadata": {
        "id": "Hsge5OVr73Ae"
      }
    },
    {
      "cell_type": "code",
      "source": [
        "my_string = \"Python Programming\"\n",
        "sliced_string = my_string[0:3]\n",
        "print(sliced_string)"
      ],
      "metadata": {
        "colab": {
          "base_uri": "https://localhost:8080/"
        },
        "id": "wzH2afd_72wD",
        "outputId": "a217d6c3-a0db-4839-995a-89e3a05c88b4"
      },
      "execution_count": 3,
      "outputs": [
        {
          "output_type": "stream",
          "name": "stdout",
          "text": [
            "Pyt\n"
          ]
        }
      ]
    },
    {
      "cell_type": "markdown",
      "source": [
        "**4. Write a code to convert the string \"hello\" to uppercase**"
      ],
      "metadata": {
        "id": "hSNYXoQy72fX"
      }
    },
    {
      "cell_type": "code",
      "source": [
        "my_string = \"hello\"\n",
        "uppercase_string = my_string.upper()\n",
        "print(uppercase_string)"
      ],
      "metadata": {
        "colab": {
          "base_uri": "https://localhost:8080/"
        },
        "id": "mmL9jdT_72NZ",
        "outputId": "f8c22284-f929-4831-c59d-56a64f019541"
      },
      "execution_count": 4,
      "outputs": [
        {
          "output_type": "stream",
          "name": "stdout",
          "text": [
            "HELLO\n"
          ]
        }
      ]
    },
    {
      "cell_type": "markdown",
      "source": [
        "**5. Write a code to replace the word \"apple\" with \"orange\" in the string \"I like apple\"**"
      ],
      "metadata": {
        "id": "RKYxpBd_71-k"
      }
    },
    {
      "cell_type": "code",
      "source": [
        "original_string = \"I like apple\"\n",
        "new_string = original_string.replace(\"apple\", \"orange\")\n",
        "print(new_string)"
      ],
      "metadata": {
        "colab": {
          "base_uri": "https://localhost:8080/"
        },
        "id": "tKS2md2k71ur",
        "outputId": "42df9ee5-235b-4e43-fed0-22e2f680fd1e"
      },
      "execution_count": 5,
      "outputs": [
        {
          "output_type": "stream",
          "name": "stdout",
          "text": [
            "I like orange\n"
          ]
        }
      ]
    },
    {
      "cell_type": "markdown",
      "source": [
        "**6. Write a code to create a list with numbers 1 to 5 and print it**"
      ],
      "metadata": {
        "id": "rcTX1rFZ71Vc"
      }
    },
    {
      "cell_type": "code",
      "source": [
        "my_list = [1, 2, 3, 4, 5]\n",
        "print(my_list)"
      ],
      "metadata": {
        "colab": {
          "base_uri": "https://localhost:8080/"
        },
        "id": "nkgBCItN70ic",
        "outputId": "ea991773-de3d-440b-fced-e546688bec76"
      },
      "execution_count": 6,
      "outputs": [
        {
          "output_type": "stream",
          "name": "stdout",
          "text": [
            "[1, 2, 3, 4, 5]\n"
          ]
        }
      ]
    },
    {
      "cell_type": "markdown",
      "source": [
        "**7. Write a code to append the number 10 to the list [1, 2, 3, 4]**"
      ],
      "metadata": {
        "id": "z1FKkeQo70CV"
      }
    },
    {
      "cell_type": "code",
      "source": [
        "my_list = [1, 2, 3, 4]\n",
        "my_list.append(10)\n",
        "print(my_list)"
      ],
      "metadata": {
        "colab": {
          "base_uri": "https://localhost:8080/"
        },
        "id": "ndDzkWpf7zpF",
        "outputId": "399de8d5-0d46-499d-b3df-47bc5bcc65e1"
      },
      "execution_count": 7,
      "outputs": [
        {
          "output_type": "stream",
          "name": "stdout",
          "text": [
            "[1, 2, 3, 4, 10]\n"
          ]
        }
      ]
    },
    {
      "cell_type": "markdown",
      "source": [
        "**8. Write a code to remove the number 3 from the list [1, 2, 3, 4, 5]**"
      ],
      "metadata": {
        "id": "N9LMltAT9pnO"
      }
    },
    {
      "cell_type": "code",
      "source": [
        "my_list = [1, 2, 3, 4, 5]\n",
        "my_list.remove(3)\n",
        "print(my_list)"
      ],
      "metadata": {
        "colab": {
          "base_uri": "https://localhost:8080/"
        },
        "id": "J_Cv8QaI9uM-",
        "outputId": "e1bc2dca-805c-4a44-b214-9a762e112b50"
      },
      "execution_count": 8,
      "outputs": [
        {
          "output_type": "stream",
          "name": "stdout",
          "text": [
            "[1, 2, 4, 5]\n"
          ]
        }
      ]
    },
    {
      "cell_type": "markdown",
      "source": [
        "**9.  Write a code to access the second element in the list ['a', 'b', 'c', 'd']**"
      ],
      "metadata": {
        "id": "9boPLE7p9trb"
      }
    },
    {
      "cell_type": "code",
      "source": [
        "my_list = ['a', 'b', 'c', 'd']\n",
        "second_element = my_list[1]\n",
        "print(second_element)"
      ],
      "metadata": {
        "colab": {
          "base_uri": "https://localhost:8080/"
        },
        "id": "WmOnOBgm-LRZ",
        "outputId": "48f77645-f2f7-46e3-9e1c-53f87a0ceea2"
      },
      "execution_count": 9,
      "outputs": [
        {
          "output_type": "stream",
          "name": "stdout",
          "text": [
            "b\n"
          ]
        }
      ]
    },
    {
      "cell_type": "markdown",
      "source": [
        "**10. Write a code to reverse the list [10, 20, 30, 40, 50].**"
      ],
      "metadata": {
        "id": "X40VmvpJ-VuW"
      }
    },
    {
      "cell_type": "code",
      "source": [
        "my_list = [10, 20, 30, 40, 50]\n",
        "my_list.reverse()\n",
        "print(my_list)"
      ],
      "metadata": {
        "colab": {
          "base_uri": "https://localhost:8080/"
        },
        "id": "02JfVCpg-T4P",
        "outputId": "dea49578-24dd-485a-f0cb-4e528e388cc2"
      },
      "execution_count": 10,
      "outputs": [
        {
          "output_type": "stream",
          "name": "stdout",
          "text": [
            "[50, 40, 30, 20, 10]\n"
          ]
        }
      ]
    },
    {
      "cell_type": "markdown",
      "source": [
        "**11. Write a code to create a tuple with the elements 100, 200, 300 and print it.**"
      ],
      "metadata": {
        "id": "d4JBLiN_-Wz7"
      }
    },
    {
      "cell_type": "code",
      "source": [
        "my_tuple = (100, 200, 300)\n",
        "print(my_tuple)"
      ],
      "metadata": {
        "colab": {
          "base_uri": "https://localhost:8080/"
        },
        "id": "s1gbnXfs-XuR",
        "outputId": "41f00f1a-c81c-4686-840f-11488efb7624"
      },
      "execution_count": 11,
      "outputs": [
        {
          "output_type": "stream",
          "name": "stdout",
          "text": [
            "(100, 200, 300)\n"
          ]
        }
      ]
    },
    {
      "cell_type": "markdown",
      "source": [
        "**12. Write a code to access the second-to-last element of the tuple ('red', 'green', 'blue', 'yellow').**"
      ],
      "metadata": {
        "id": "5OEaHh2Z-Yx6"
      }
    },
    {
      "cell_type": "code",
      "source": [
        "my_tuple = ('red', 'green', 'blue', 'yellow')\n",
        "second_to_last = my_tuple[-2]\n",
        "print(second_to_last)"
      ],
      "metadata": {
        "colab": {
          "base_uri": "https://localhost:8080/"
        },
        "id": "CCjQVgtN-f1x",
        "outputId": "010da927-63fa-4001-a863-f2a7b8862658"
      },
      "execution_count": 12,
      "outputs": [
        {
          "output_type": "stream",
          "name": "stdout",
          "text": [
            "blue\n"
          ]
        }
      ]
    },
    {
      "cell_type": "markdown",
      "source": [
        "**13. Write a code to find the minimum number in the tuple (10, 20, 5, 15).**"
      ],
      "metadata": {
        "id": "Sb4Bd3fS-fUt"
      }
    },
    {
      "cell_type": "code",
      "source": [
        "my_tuple = (10, 20, 5, 15)\n",
        "minimum_number = min(my_tuple)\n",
        "print(minimum_number)"
      ],
      "metadata": {
        "colab": {
          "base_uri": "https://localhost:8080/"
        },
        "id": "mkMKWv0c-ejN",
        "outputId": "d8722230-870f-45fe-ca68-6fef643df5a3"
      },
      "execution_count": 13,
      "outputs": [
        {
          "output_type": "stream",
          "name": "stdout",
          "text": [
            "5\n"
          ]
        }
      ]
    },
    {
      "cell_type": "markdown",
      "source": [
        "**14. Write a code to find the index of the element \"cat\" in the tuple ('dog', 'cat', 'rabbit').**"
      ],
      "metadata": {
        "id": "1bU8I54j-kx6"
      }
    },
    {
      "cell_type": "code",
      "source": [
        "my_tuple = ('dog', 'cat', 'rabbit')\n",
        "index_of_animal = my_tuple.index('cat')\n",
        "print(index_of_animal)"
      ],
      "metadata": {
        "colab": {
          "base_uri": "https://localhost:8080/"
        },
        "id": "yGZ9-eIA-j2C",
        "outputId": "e7b0add1-1719-4338-d779-cf79e393f656"
      },
      "execution_count": 15,
      "outputs": [
        {
          "output_type": "stream",
          "name": "stdout",
          "text": [
            "1\n"
          ]
        }
      ]
    },
    {
      "cell_type": "markdown",
      "source": [
        "**15. Write a code to create a tuple containing three different fruits and check if \"kiwi\" is in it.**"
      ],
      "metadata": {
        "id": "nq02pdvx-jV_"
      }
    },
    {
      "cell_type": "code",
      "source": [
        "fruits_tuple = ('apple', 'banana', 'orange')\n",
        "is_kiwi_present = \"kiwi\" in fruits_tuple\n",
        "print(is_kiwi_present)"
      ],
      "metadata": {
        "colab": {
          "base_uri": "https://localhost:8080/"
        },
        "id": "SYsOztTL_6Zh",
        "outputId": "a091365d-c5f4-482c-8975-32599e366960"
      },
      "execution_count": 16,
      "outputs": [
        {
          "output_type": "stream",
          "name": "stdout",
          "text": [
            "False\n"
          ]
        }
      ]
    },
    {
      "cell_type": "markdown",
      "source": [
        "**16. Write a code to create a set with the elements 'a', 'b', 'c' and print it.**"
      ],
      "metadata": {
        "id": "2QM10wSfAH7E"
      }
    },
    {
      "cell_type": "code",
      "source": [
        "my_set = {'a', 'b', 'c'}\n",
        "print(my_set)"
      ],
      "metadata": {
        "colab": {
          "base_uri": "https://localhost:8080/"
        },
        "id": "xNObRUecAApc",
        "outputId": "4c48f012-fb84-4303-8bdc-0cb810f5a2a5"
      },
      "execution_count": 17,
      "outputs": [
        {
          "output_type": "stream",
          "name": "stdout",
          "text": [
            "{'c', 'a', 'b'}\n"
          ]
        }
      ]
    },
    {
      "cell_type": "markdown",
      "source": [
        "**17. Write a code to clear all elements from the set {1, 2, 3, 4, 5}.**"
      ],
      "metadata": {
        "id": "vbO6tKXhAWN-"
      }
    },
    {
      "cell_type": "code",
      "source": [
        "my_set = {1, 2, 3, 4, 5}\n",
        "my_set.clear()\n",
        "print(my_set)"
      ],
      "metadata": {
        "colab": {
          "base_uri": "https://localhost:8080/"
        },
        "id": "QANSezzvARUV",
        "outputId": "3fa55d9f-c154-48ef-f2c0-8b6703ec056e"
      },
      "execution_count": 18,
      "outputs": [
        {
          "output_type": "stream",
          "name": "stdout",
          "text": [
            "set()\n"
          ]
        }
      ]
    },
    {
      "cell_type": "markdown",
      "source": [
        "**18. Write a code to remove the element 4 from the set {1, 2, 3, 4}.**"
      ],
      "metadata": {
        "id": "OwnPVd23AXdZ"
      }
    },
    {
      "cell_type": "code",
      "source": [
        "my_set = {1, 2, 3, 4}\n",
        "my_set.remove(4)\n",
        "print(my_set)"
      ],
      "metadata": {
        "colab": {
          "base_uri": "https://localhost:8080/"
        },
        "id": "QVQlZV8HAYhW",
        "outputId": "ebe6f1c3-c3fe-4ce9-d511-4a12cd851d3c"
      },
      "execution_count": 19,
      "outputs": [
        {
          "output_type": "stream",
          "name": "stdout",
          "text": [
            "{1, 2, 3}\n"
          ]
        }
      ]
    },
    {
      "cell_type": "markdown",
      "source": [
        "**19. Write a code to find the union of two sets {1, 2, 3} and {3, 4, 5}.**"
      ],
      "metadata": {
        "id": "x3qskOmiAZJu"
      }
    },
    {
      "cell_type": "code",
      "source": [
        "set1 = {1, 2, 3}\n",
        "set2 = {3, 4, 5}\n",
        "union_set = set1.union(set2)\n",
        "print(union_set)"
      ],
      "metadata": {
        "colab": {
          "base_uri": "https://localhost:8080/"
        },
        "id": "lp4YvERSAZ3T",
        "outputId": "90421c65-9381-4eaf-f2b9-e8620422fb1d"
      },
      "execution_count": 20,
      "outputs": [
        {
          "output_type": "stream",
          "name": "stdout",
          "text": [
            "{1, 2, 3, 4, 5}\n"
          ]
        }
      ]
    },
    {
      "cell_type": "markdown",
      "source": [
        "**20. Write a code to find the intersection of two sets {1, 2, 3} and {2, 3, 4}.**"
      ],
      "metadata": {
        "id": "43ZOVkIxBPCW"
      }
    },
    {
      "cell_type": "code",
      "source": [
        "set1 = {1, 2, 3}\n",
        "set2 = {2, 3, 4}\n",
        "intersection_set = set1.intersection(set2)\n",
        "print(intersection_set)"
      ],
      "metadata": {
        "colab": {
          "base_uri": "https://localhost:8080/"
        },
        "id": "tnGEvWglBOhD",
        "outputId": "a906da2d-3c73-4cf5-e690-f8f64eac1ffa"
      },
      "execution_count": 23,
      "outputs": [
        {
          "output_type": "stream",
          "name": "stdout",
          "text": [
            "{2, 3}\n"
          ]
        }
      ]
    },
    {
      "cell_type": "markdown",
      "source": [
        "**21. Write a code to create a dictionary with the keys \"name\", \"age\", and \"city\", and print it.**"
      ],
      "metadata": {
        "id": "q9ug6YVRBOQX"
      }
    },
    {
      "cell_type": "code",
      "source": [
        "my_dict = {\n",
        "    \"name\": \"Alice\",\n",
        "    \"age\": 30,\n",
        "    \"city\": \"New York\"\n",
        "}\n",
        "print(my_dict)"
      ],
      "metadata": {
        "colab": {
          "base_uri": "https://localhost:8080/"
        },
        "id": "knxXIrk1BOAs",
        "outputId": "6de1b0ae-7341-426c-dbd5-867f24bced88"
      },
      "execution_count": 24,
      "outputs": [
        {
          "output_type": "stream",
          "name": "stdout",
          "text": [
            "{'name': 'Alice', 'age': 30, 'city': 'New York'}\n"
          ]
        }
      ]
    },
    {
      "cell_type": "markdown",
      "source": [
        "**22. Write a code to add a new key-value pair \"country\": \"USA\" to the dictionary {'name': 'John', 'age': 25}.**"
      ],
      "metadata": {
        "id": "rwb_sljdBNvz"
      }
    },
    {
      "cell_type": "code",
      "source": [
        "my_dict = {\n",
        "    \"name\": \"John\",\n",
        "    \"age\": 25,\n",
        "    \"city\": \"New York\"\n",
        "}\n",
        "my_dict[\"country\"] = \"USA\"\n",
        "print(my_dict)"
      ],
      "metadata": {
        "colab": {
          "base_uri": "https://localhost:8080/"
        },
        "id": "F7bH6ClEBNgZ",
        "outputId": "036337d8-0d63-44d1-92d8-fe8368bf2b59"
      },
      "execution_count": 25,
      "outputs": [
        {
          "output_type": "stream",
          "name": "stdout",
          "text": [
            "{'name': 'John', 'age': 25, 'city': 'New York', 'country': 'USA'}\n"
          ]
        }
      ]
    },
    {
      "cell_type": "markdown",
      "source": [
        "**23. Write a code to access the value associated with the key \"name\" in the dictionary {'name': 'Alice', 'age': 30}.**"
      ],
      "metadata": {
        "id": "bk847QJbBNBb"
      }
    },
    {
      "cell_type": "code",
      "source": [
        "my_dict = {'name': 'Alice', 'age': 30}\n",
        "name_value = my_dict['name']\n",
        "print(name_value)"
      ],
      "metadata": {
        "colab": {
          "base_uri": "https://localhost:8080/"
        },
        "id": "SktZnWikBMzF",
        "outputId": "92765c1c-2b03-4ee3-ee62-95a32d65860f"
      },
      "execution_count": 29,
      "outputs": [
        {
          "output_type": "stream",
          "name": "stdout",
          "text": [
            "Alice\n"
          ]
        }
      ]
    },
    {
      "cell_type": "markdown",
      "source": [
        "**24. Write a code to remove the key \"age\" from the dictionary {'name': 'Bob', 'age': 22, 'city': 'New York'}.**"
      ],
      "metadata": {
        "id": "LFPKX31KBMhq"
      }
    },
    {
      "cell_type": "code",
      "source": [
        "my_dict = {'name': 'Bob', 'age': 22, 'city': 'New York'}\n",
        "del my_dict['age']\n",
        "print(my_dict)"
      ],
      "metadata": {
        "colab": {
          "base_uri": "https://localhost:8080/"
        },
        "id": "NIzAyQUbBMRg",
        "outputId": "6edd2d53-d1db-4c2c-d532-b4389f83bb75"
      },
      "execution_count": 30,
      "outputs": [
        {
          "output_type": "stream",
          "name": "stdout",
          "text": [
            "{'name': 'Bob', 'city': 'New York'}\n"
          ]
        }
      ]
    },
    {
      "cell_type": "markdown",
      "source": [
        "**25. Write a code to check if the key \"city\" exists in the dictionary {'name': 'Alice', 'city': 'Paris'}.**"
      ],
      "metadata": {
        "id": "39PTC3qxBL7X"
      }
    },
    {
      "cell_type": "code",
      "source": [
        "my_dict = {'name': 'Alice', 'city': 'Paris'}\n",
        "key_exists = \"city\" in my_dict\n",
        "print(key_exists)"
      ],
      "metadata": {
        "colab": {
          "base_uri": "https://localhost:8080/"
        },
        "id": "nCVtIQWfBLmz",
        "outputId": "aa7fb649-5f65-4ce1-d8c6-de01b883a7a7"
      },
      "execution_count": 31,
      "outputs": [
        {
          "output_type": "stream",
          "name": "stdout",
          "text": [
            "True\n"
          ]
        }
      ]
    },
    {
      "cell_type": "markdown",
      "source": [
        "**26. Write a code to create a list, a tuple, and a dictionary, and print them all.**"
      ],
      "metadata": {
        "id": "AMLzKFvJBLBk"
      }
    },
    {
      "cell_type": "code",
      "source": [
        "my_list = [1, 2, 3]\n",
        "my_tuple = ('a', 'b', 'c')\n",
        "my_dictionary = {'key1': 'value1', 'key2': 'value2'}\n",
        "\n",
        "print(my_list)\n",
        "print(my_tuple)\n",
        "print(my_dictionary)"
      ],
      "metadata": {
        "colab": {
          "base_uri": "https://localhost:8080/"
        },
        "id": "NJe_FsNCBKpp",
        "outputId": "b9610380-deae-4f6c-837a-6f758220b6e7"
      },
      "execution_count": 32,
      "outputs": [
        {
          "output_type": "stream",
          "name": "stdout",
          "text": [
            "[1, 2, 3]\n",
            "('a', 'b', 'c')\n",
            "{'key1': 'value1', 'key2': 'value2'}\n"
          ]
        }
      ]
    },
    {
      "cell_type": "markdown",
      "source": [
        "**27. Write a code to create a list of 5 random numbers between 1 and 100, sort it in ascending order, and print the result.(replaced)**"
      ],
      "metadata": {
        "id": "gLR0FbTdBFJT"
      }
    },
    {
      "cell_type": "code",
      "source": [
        "import random\n",
        "random_numbers = [random.randint(1, 100) for _ in range(5)]\n",
        "random_numbers.sort()\n",
        "print(random_numbers)"
      ],
      "metadata": {
        "colab": {
          "base_uri": "https://localhost:8080/"
        },
        "id": "mbrbIDzCA_1F",
        "outputId": "c795e822-ab33-44e7-b980-dc1bd0cbe4dd"
      },
      "execution_count": 35,
      "outputs": [
        {
          "output_type": "stream",
          "name": "stdout",
          "text": [
            "[6, 20, 54, 86, 91]\n"
          ]
        }
      ]
    },
    {
      "cell_type": "markdown",
      "source": [
        "**28.  Write a code to create a list with strings and print the element at the third index.**"
      ],
      "metadata": {
        "id": "69PHe5m-BGSb"
      }
    },
    {
      "cell_type": "code",
      "source": [
        "\n",
        "my_strings = [\"apple\", \"banana\", \"cherry\", \"date\", \"elderberry\"]\n",
        "element_at_third_index = my_strings[3]\n",
        "print(element_at_third_index)"
      ],
      "metadata": {
        "colab": {
          "base_uri": "https://localhost:8080/"
        },
        "id": "EWXCAdxLBInM",
        "outputId": "21a4e335-1a6b-46e4-89c6-fa3a55c2efa0"
      },
      "execution_count": 36,
      "outputs": [
        {
          "output_type": "stream",
          "name": "stdout",
          "text": [
            "date\n"
          ]
        }
      ]
    },
    {
      "cell_type": "markdown",
      "source": [
        "**29. Write a code to combine two dictionaries into one and print the result.**"
      ],
      "metadata": {
        "id": "Z7uwHjLcE5o7"
      }
    },
    {
      "cell_type": "code",
      "source": [
        "dict1 = {'a': 1, 'b': 2}\n",
        "dict2 = {'c': 3, 'd': 4}\n",
        "combined_dict = dict1.copy()\n",
        "combined_dict.update(dict2)\n",
        "print(combined_dict)"
      ],
      "metadata": {
        "colab": {
          "base_uri": "https://localhost:8080/"
        },
        "id": "fbBB5Y_mE3co",
        "outputId": "d2c6346d-6da5-4c07-bf8c-5b30eaccd569"
      },
      "execution_count": 37,
      "outputs": [
        {
          "output_type": "stream",
          "name": "stdout",
          "text": [
            "{'a': 1, 'b': 2, 'c': 3, 'd': 4}\n"
          ]
        }
      ]
    },
    {
      "cell_type": "markdown",
      "source": [
        "**30. Write a code to convert a list of strings into a set.**"
      ],
      "metadata": {
        "id": "TXrFesfRFSKg"
      }
    },
    {
      "cell_type": "code",
      "source": [
        "my_list_of_strings = [\"apple\", \"banana\", \"apple\", \"orange\", \"banana\"]\n",
        "my_set = set(my_list_of_strings)\n",
        "print(my_set)"
      ],
      "metadata": {
        "colab": {
          "base_uri": "https://localhost:8080/"
        },
        "id": "-U1ctVMcFK0K",
        "outputId": "3765689a-5d7b-439d-d142-f1d2f6c2096e"
      },
      "execution_count": 38,
      "outputs": [
        {
          "output_type": "stream",
          "name": "stdout",
          "text": [
            "{'apple', 'banana', 'orange'}\n"
          ]
        }
      ]
    }
  ]
}